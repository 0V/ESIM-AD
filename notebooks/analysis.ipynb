{
 "cells": [
  {
   "attachments": {},
   "cell_type": "markdown",
   "metadata": {},
   "source": [
    "# Analysis"
   ]
  },
  {
   "cell_type": "code",
   "execution_count": null,
   "metadata": {},
   "outputs": [],
   "source": [
    "import os\n",
    "import sys\n",
    "CURRENT_DIR = os.getcwd()\n",
    "ROOT_DIR = os.path.abspath(os.path.join(CURRENT_DIR, os.pardir))\n",
    "sys.path.append(ROOT_DIR)\n",
    "\n",
    "from functools import partial\n",
    "\n",
    "import numpy as np\n",
    "from scipy.spatial import KDTree\n",
    "\n",
    "from skimage.metrics import peak_signal_noise_ratio as compare_psnr\n",
    "import matplotlib.pyplot as plt\n",
    "from ipywidgets import HBox, Play, IntSlider, jslink, interactive_output\n",
    "\n",
    "from esimad.utils import evs_load, video_load, plotFrame, plotPlayer"
   ]
  },
  {
   "attachments": {},
   "cell_type": "markdown",
   "metadata": {},
   "source": [
    "## Setup"
   ]
  },
  {
   "cell_type": "code",
   "execution_count": null,
   "metadata": {},
   "outputs": [],
   "source": [
    "# Matplotlib parameters\n",
    "FIGSIZE_UNIT = 6\n",
    "TINY_SIZE=16\n",
    "SMALL_SIZE = 20\n",
    "MEDIUM_SIZE = 22\n",
    "BIGGER_SIZE = 26\n",
    "\n",
    "plt.rc('font', family='Arial')\n",
    "plt.rc('font', size=SMALL_SIZE)          # controls default text sizes\n",
    "plt.rc('axes', titlesize=SMALL_SIZE)     # fontsize of the axes title\n",
    "plt.rc('axes', labelsize=MEDIUM_SIZE)    # fontsize of the x and y labels\n",
    "plt.rc('xtick', labelsize=SMALL_SIZE)    # fontsize of the tick labels\n",
    "plt.rc('ytick', labelsize=SMALL_SIZE)    # fontsize of the tick labels\n",
    "plt.rc('legend', fontsize=TINY_SIZE)     # legend fontsize\n",
    "plt.rc('figure', titlesize=BIGGER_SIZE)  # fontsize of the figure title"
   ]
  },
  {
   "cell_type": "code",
   "execution_count": null,
   "metadata": {},
   "outputs": [],
   "source": [
    "if os.environ['TARGET_DIR']:\n",
    "    target_dir = os.path.join(ROOT_DIR, os.environ['TARGET_DIR'])\n",
    "else:\n",
    "    target_dir = os.path.join(ROOT_DIR, 'output/sanmiguel_32spp_tau1.0')\n",
    "img_width = 200\n",
    "img_height = 200\n",
    "num_frames = 240\n",
    "t_max = 4.0\n",
    "\n",
    "print(target_dir)"
   ]
  },
  {
   "attachments": {},
   "cell_type": "markdown",
   "metadata": {},
   "source": [
    "## Movie"
   ]
  },
  {
   "cell_type": "code",
   "execution_count": null,
   "metadata": {},
   "outputs": [],
   "source": [
    "refs_mov = video_load(os.path.join(target_dir, 'refs_evs.mp4'))\n",
    "esim_mov = video_load(os.path.join(target_dir, 'esim_evs.mp4'))\n",
    "alph_mov = video_load(os.path.join(target_dir, 'alph_evs.mp4'))\n",
    "ours_mov = video_load(os.path.join(target_dir, 'ours_evs.mp4'))"
   ]
  },
  {
   "cell_type": "code",
   "execution_count": null,
   "metadata": {},
   "outputs": [],
   "source": [
    "def plotFrame(t):\n",
    "    fig = plt.figure(figsize=(16, 4))\n",
    "\n",
    "    ax = fig.add_subplot(141)\n",
    "    ax.imshow(refs_mov[t], cmap='gray')\n",
    "    ax.set_title('Reference')\n",
    "    ax.axis('off')\n",
    "\n",
    "    ax = fig.add_subplot(142)\n",
    "    ax.imshow(esim_mov[t], cmap='gray')\n",
    "    ax.set_title('ESIM')\n",
    "    ax.axis('off')\n",
    "\n",
    "    ax = fig.add_subplot(143)\n",
    "    ax.imshow(alph_mov[t], cmap='gray')\n",
    "    ax.set_title('WLR-ESIM')\n",
    "    ax.axis('off')\n",
    "\n",
    "    ax = fig.add_subplot(144)\n",
    "    ax.imshow(ours_mov[t], cmap='gray')\n",
    "    ax.set_title('D-ESIM (ours)')\n",
    "    ax.axis('off')\n",
    "\n",
    "    plt.tight_layout()\n",
    "    plt.show()\n",
    "\n",
    "def plotPlayer(plot, start, end, step=1):\n",
    "    interval = (end - start + 1) // 2\n",
    "    slider = IntSlider(min=start, max=end, step=1, continuous_update=True)\n",
    "    play = Play(min=start, max=end, step=step, interval=interval, description=\"Movie\")\n",
    "    jslink((play, 'value'), (slider, 'value'))\n",
    "    controller = HBox([play, slider])\n",
    "    output = interactive_output(plot, {\"t\": slider})\n",
    "    return display(controller, output)\n",
    "\n",
    "plotPlayer(plotFrame, 0, len(esim_mov) - 1)"
   ]
  },
  {
   "attachments": {},
   "cell_type": "markdown",
   "metadata": {},
   "source": [
    "## Point-based metrics"
   ]
  },
  {
   "cell_type": "code",
   "execution_count": null,
   "metadata": {},
   "outputs": [],
   "source": [
    "ev_refs = evs_load(os.path.join(target_dir, 'refs_evs.raw'))\n",
    "ev_esim = evs_load(os.path.join(target_dir, 'esim_evs.raw'))\n",
    "ev_alph = evs_load(os.path.join(target_dir, 'alph_evs.raw'))\n",
    "ev_ours = evs_load(os.path.join(target_dir, 'ours_evs.raw'))\n",
    "\n",
    "ev_refs = np.array(ev_refs)\n",
    "ev_esim = np.array(ev_esim)\n",
    "ev_alph = np.array(ev_alph)\n",
    "ev_ours = np.array(ev_ours)\n",
    "\n",
    "print('refs: %d events' % (len(ev_refs)))\n",
    "print('esim: %d events' % (len(ev_esim)))\n",
    "print('alph: %d events' % (len(ev_alph)))\n",
    "print('ours: %d events' % (len(ev_ours)))"
   ]
  },
  {
   "attachments": {},
   "cell_type": "markdown",
   "metadata": {},
   "source": [
    "### Plot events"
   ]
  },
  {
   "cell_type": "code",
   "execution_count": null,
   "metadata": {},
   "outputs": [],
   "source": [
    "def plot(ev, image_shape=None, t_max=None, title=''):\n",
    "    if image_shape is None:\n",
    "        width = ev[:, 0].max()\n",
    "        height = ev[:, 1].max()\n",
    "    else:\n",
    "        width, height = image_shape\n",
    "\n",
    "    if t_max is None:\n",
    "        t_max = ev[:, 2].max()\n",
    "\n",
    "    xs_pos, ys_pos, ts_pos, _ = np.transpose(np.array(ev[ev[:, 3] > 0]), axes=(1, 0))\n",
    "    xs_neg, ys_neg, ts_neg, _ = np.transpose(np.array(ev[ev[:, 3] < 0]), axes=(1, 0))\n",
    "    ys_pos = height - ys_pos - 1\n",
    "    ys_neg = height - ys_neg - 1\n",
    "\n",
    "    fig = plt.figure(figsize=(16, 9), dpi=100)\n",
    "    ax = fig.add_subplot(projection='3d')\n",
    "    ax.set_title(title)\n",
    "    ax.scatter(ts_pos, xs_pos, ys_pos, alpha=0.4, s=1, color='tab:red', label='positive')\n",
    "    ax.scatter(ts_neg, xs_neg, ys_neg, alpha=0.4, s=1, color='tab:blue', label='negative')\n",
    "    ax.set_xlabel('t', labelpad=20)\n",
    "    ax.set_ylabel('x', labelpad=10)\n",
    "    ax.set_zlabel('y', labelpad=10)\n",
    "    ax.set_yticks(np.arange(0, width + 1, 50))\n",
    "    ax.set_zticks(np.arange(0, height + 1, 50))\n",
    "    ax.set_xlim([0, t_max])\n",
    "    ax.set_ylim([0, width])\n",
    "    ax.set_zlim([0, height])\n",
    "    ax.set_box_aspect((2, 1, 1))\n",
    "    leg = ax.legend()\n",
    "    leg.legend_handles[0]._sizes = [30]\n",
    "    leg.legend_handles[1]._sizes = [30]\n",
    "    plt.show()\n"
   ]
  },
  {
   "cell_type": "code",
   "execution_count": null,
   "metadata": {},
   "outputs": [],
   "source": [
    "# plot(ev_refs, image_shape=(img_width, img_height), t_max=t_max)"
   ]
  },
  {
   "cell_type": "code",
   "execution_count": null,
   "metadata": {},
   "outputs": [],
   "source": [
    "# plot(ev_esim, image_shape=(img_width, img_height), t_max=t_max)"
   ]
  },
  {
   "cell_type": "code",
   "execution_count": null,
   "metadata": {},
   "outputs": [],
   "source": [
    "# plot(ev_alph, image_shape=(img_width, img_height), t_max=t_max)"
   ]
  },
  {
   "cell_type": "code",
   "execution_count": null,
   "metadata": {},
   "outputs": [],
   "source": [
    "# plot(ev_ours, image_shape=(img_width, img_height), t_max=t_max)"
   ]
  },
  {
   "attachments": {},
   "cell_type": "markdown",
   "metadata": {},
   "source": [
    "### Precision, Recall, F1 score, and FMI"
   ]
  },
  {
   "cell_type": "code",
   "execution_count": null,
   "metadata": {},
   "outputs": [],
   "source": [
    "def nearest(src, dst):\n",
    "    s = src.copy()\n",
    "    t = dst.copy()\n",
    "    s[:, 3] *= 1.0e20\n",
    "    t[:, 3] *= 1.0e20\n",
    "    kd = KDTree(t)\n",
    "    idx = kd.query(s, k=1)[1]\n",
    "    s = s[:, :3]\n",
    "    t = t[:, :3]\n",
    "    return np.sum(np.abs(s - t[idx]) ** 2.0, axis=1)\n",
    "\n",
    "def chamfer_distance(p0, p1):\n",
    "    \"\"\"\n",
    "    p0: [N, 4]\n",
    "    p1: [M, 4]\n",
    "    p0[i] = (x, y, t, p), i = 1, ..., N\n",
    "    p1[j] = (x, y, t, p), j = 1, ..., M\n",
    "    \"\"\"\n",
    "    d0 = nearest(p0, p1)\n",
    "    d1 = nearest(p1, p0)\n",
    "    return 0.5 * (np.mean(d0) + np.mean(d1))"
   ]
  },
  {
   "cell_type": "code",
   "execution_count": null,
   "metadata": {},
   "outputs": [],
   "source": [
    "xs, ys, ts, ps = np.transpose(ev_refs, axes=(1, 0))\n",
    "ps_refs = np.stack([xs / img_width, ys / img_height, 1.0e10 * ts / t_max, ps], axis=1)\n",
    "xs, ys, ts, ps = np.transpose(ev_esim, axes=(1, 0))\n",
    "ps_esim = np.stack([xs / img_width, ys / img_height, 1.0e10 * ts / t_max, ps], axis=1)\n",
    "xs, ys, ts, ps = np.transpose(ev_alph, axes=(1, 0))\n",
    "ps_alph = np.stack([xs / img_width, ys / img_height, 1.0e10 * ts / t_max, ps], axis=1)\n",
    "xs, ys, ts, ps = np.transpose(ev_ours, axes=(1, 0))\n",
    "ps_ours = np.stack([xs / img_width, ys / img_height, 1.0e10 * ts / t_max, ps], axis=1)"
   ]
  },
  {
   "cell_type": "code",
   "execution_count": null,
   "metadata": {},
   "outputs": [],
   "source": [
    "cham_esim = chamfer_distance(ps_refs, ps_esim)\n",
    "cham_alph = chamfer_distance(ps_refs, ps_alph)\n",
    "cham_ours = chamfer_distance(ps_refs, ps_ours)"
   ]
  },
  {
   "cell_type": "code",
   "execution_count": null,
   "metadata": {},
   "outputs": [],
   "source": [
    "print('*** chamfer distances ***')\n",
    "print('esim: %f' % (cham_esim))\n",
    "print('alph: %f' % (cham_alph))\n",
    "print('ours: %f' % (cham_ours))"
   ]
  },
  {
   "cell_type": "code",
   "execution_count": null,
   "metadata": {},
   "outputs": [],
   "source": [
    "rec_esim = nearest(ps_esim, ps_refs)\n",
    "pre_esim = nearest(ps_refs, ps_esim)\n",
    "rec_alph = nearest(ps_alph, ps_refs)\n",
    "pre_alph = nearest(ps_refs, ps_alph)\n",
    "rec_ours = nearest(ps_ours, ps_refs)\n",
    "pre_ours = nearest(ps_refs, ps_ours)\n"
   ]
  },
  {
   "cell_type": "code",
   "execution_count": null,
   "metadata": {},
   "outputs": [],
   "source": [
    "max_dist = 0\n",
    "max_dist = max(max_dist, np.max(pre_esim), np.max(rec_esim))\n",
    "max_dist = max(max_dist, np.max(pre_alph), np.max(rec_alph))\n",
    "max_dist = max(max_dist, np.max(pre_ours), np.max(rec_ours))\n",
    "ds = np.linspace(0, max_dist * 0.1, 500)"
   ]
  },
  {
   "cell_type": "code",
   "execution_count": null,
   "metadata": {},
   "outputs": [],
   "source": [
    "def metrics(pre, rec, dists):\n",
    "    ps = []\n",
    "    rs = []\n",
    "    fs = []\n",
    "    fmis = []\n",
    "    for d in dists:\n",
    "        p = np.mean(pre < d)\n",
    "        r = np.mean(rec < d)\n",
    "        f = (2.0 * p * r) / (p + r + 1.0e-12)\n",
    "        fmi = np.sqrt(p * r)\n",
    "        ps.append(p)\n",
    "        rs.append(r)\n",
    "        fs.append(f)\n",
    "        fmis.append(fmi)\n",
    "\n",
    "    return ps, rs, fs, fmis"
   ]
  },
  {
   "cell_type": "code",
   "execution_count": null,
   "metadata": {},
   "outputs": [],
   "source": [
    "prs_esim, rcs_esim, f1s_esim, fmi_esim = metrics(pre_esim, rec_esim, ds)\n",
    "prs_alph, rcs_alph, f1s_alph, fmi_alph = metrics(pre_alph, rec_alph, ds)\n",
    "prs_ours, rcs_ours, f1s_ours, fmi_ours = metrics(pre_ours, rec_ours, ds)"
   ]
  },
  {
   "cell_type": "code",
   "execution_count": null,
   "metadata": {},
   "outputs": [],
   "source": [
    "def plot_metric(xs, ys_list, label_list, title='', xlabel='', ylabel='', filename=None):\n",
    "    fig = plt.figure(figsize=(8, 5), dpi=200)\n",
    "    ax = fig.add_subplot(111)\n",
    "    edgecolors = ['tab:blue', 'tab:green', 'tab:orange']\n",
    "    \n",
    "    for ys, label, edgecolor in zip(ys_list, label_list, edgecolors):\n",
    "        ax.plot(xs, ys, label=label, color=edgecolor)\n",
    "\n",
    "    for axis in ['top', 'bottom', 'left', 'right']:\n",
    "        ax.spines[axis].set_color('black')\n",
    "\n",
    "    ax.set_title(title)\n",
    "    ax.set_xlabel(xlabel)\n",
    "    ax.set_ylabel(ylabel)\n",
    "    ax.set_xlim([-0.0001,0.0051])\n",
    "    ax.set_ylim([-0.02,1.02])\n",
    "\n",
    "    ax.legend(frameon=True, framealpha=1, borderpad=1, edgecolor='#666', loc='lower right')\n",
    "    ax.grid(color='#dedede')\n",
    "\n",
    "    plt.tight_layout()\n",
    "    if filename is not None:\n",
    "        plt.savefig(os.path.join(target_dir, filename+'.pdf'))\n",
    "    plt.show()"
   ]
  },
  {
   "cell_type": "code",
   "execution_count": null,
   "metadata": {},
   "outputs": [],
   "source": [
    "plot_metric(ds, [prs_esim, prs_alph, prs_ours], ['ESIM', 'WLR+ESIM', 'Ours'], title='Precision', xlabel='$\\\\tau$', ylabel='$P(\\\\tau)$', filename='precision')"
   ]
  },
  {
   "cell_type": "code",
   "execution_count": null,
   "metadata": {},
   "outputs": [],
   "source": [
    "\n",
    "plot_metric(ds, [rcs_esim, rcs_alph, rcs_ours], ['ESIM', 'WLR+ESIM', 'Ours'], title='Recall', xlabel='$\\\\tau$', ylabel='$R(\\\\tau)$', filename='recall')"
   ]
  },
  {
   "cell_type": "code",
   "execution_count": null,
   "metadata": {},
   "outputs": [],
   "source": [
    "\n",
    "plot_metric(ds, [f1s_esim, f1s_alph, f1s_ours], ['ESIM', 'WLR+ESIM', 'Ours'], title='F1 score', xlabel='$\\\\tau$', ylabel='$F(\\\\tau)$', filename='f1score')"
   ]
  },
  {
   "cell_type": "code",
   "execution_count": null,
   "metadata": {},
   "outputs": [],
   "source": [
    "plot_metric(ds, [fmi_esim, fmi_alph, fmi_ours], ['ESIM', 'ESIM+WLR', 'Ours'], title='FMI', xlabel='$\\\\tau$', ylabel='FMI($\\\\tau$)', filename='fmi')"
   ]
  },
  {
   "attachments": {},
   "cell_type": "markdown",
   "metadata": {},
   "source": [
    "## Image-based metrics"
   ]
  },
  {
   "cell_type": "code",
   "execution_count": null,
   "metadata": {},
   "outputs": [],
   "source": [
    "refs_mov = np.load(os.path.join(target_dir, 'refs_evs.npy'))\n",
    "esim_mov = np.load(os.path.join(target_dir, 'esim_evs.npy'))\n",
    "alph_mov = np.load(os.path.join(target_dir, 'alph_evs.npy'))\n",
    "ours_mov = np.load(os.path.join(target_dir, 'ours_evs.npy'))"
   ]
  },
  {
   "cell_type": "code",
   "execution_count": null,
   "metadata": {},
   "outputs": [],
   "source": [
    "rmse_esim = np.sqrt(np.mean((refs_mov - esim_mov) ** 2.0))\n",
    "rmse_alph = np.sqrt(np.mean((refs_mov - alph_mov) ** 2.0))\n",
    "rmse_ours = np.sqrt(np.mean((refs_mov - ours_mov) ** 2.0))"
   ]
  },
  {
   "cell_type": "code",
   "execution_count": null,
   "metadata": {},
   "outputs": [],
   "source": [
    "print('*** RMSE ***')\n",
    "print('esim: {:.5f}'.format(rmse_esim))\n",
    "print('alph: {:.5f}'.format(rmse_alph))\n",
    "print('ours: {:.5f}'.format(rmse_ours))"
   ]
  },
  {
   "cell_type": "code",
   "execution_count": null,
   "metadata": {},
   "outputs": [],
   "source": [
    "psnr_esim = compare_psnr(refs_mov, esim_mov)\n",
    "psnr_alph = compare_psnr(refs_mov, alph_mov)\n",
    "psnr_ours = compare_psnr(refs_mov, ours_mov)"
   ]
  },
  {
   "cell_type": "code",
   "execution_count": null,
   "metadata": {},
   "outputs": [],
   "source": [
    "print('*** PSNR ***')\n",
    "print('esim: {:.5f}'.format(psnr_esim))\n",
    "print('alph: {:.5f}'.format(psnr_alph))\n",
    "print('ours: {:.5f}'.format(psnr_ours))"
   ]
  },
  {
   "cell_type": "code",
   "execution_count": null,
   "metadata": {},
   "outputs": [],
   "source": [
    "def table1(idx, ys_list, label_list, title):\n",
    "    print(title)\n",
    "    for ys, label in zip(ys_list, label_list):\n",
    "        print('  {}: {:.5f}'.format(label, ys[idx]))"
   ]
  },
  {
   "cell_type": "code",
   "execution_count": null,
   "metadata": {},
   "outputs": [],
   "source": [
    "thres = 0.0005\n",
    "\n",
    "tau_idx = -1\n",
    "for d in ds:\n",
    "  if d > thres:\n",
    "    break\n",
    "  tau_idx +=1\n",
    "\n",
    "print('tau_0 = {:.12f}'.format(ds[tau_idx]))\n",
    "print('tau_1 = {:.12f}'.format(ds[tau_idx+1]))\n",
    "table1(tau_idx, [prs_esim, prs_alph, prs_ours], ['esim', 'alph', 'ours'], title='Precision')\n",
    "table1(tau_idx, [rcs_esim, rcs_alph, rcs_ours], ['esim', 'alph', 'ours'], title='Recall')\n",
    "table1(tau_idx, [f1s_esim, f1s_alph, f1s_ours], ['esim', 'alph', 'ours'], title='F1 score')\n",
    "table1(tau_idx, [fmi_esim, fmi_alph, fmi_ours], ['esim', 'alph', 'ours'], title='FMI')"
   ]
  },
  {
   "cell_type": "code",
   "execution_count": null,
   "metadata": {},
   "outputs": [],
   "source": []
  }
 ],
 "metadata": {
  "kernelspec": {
   "display_name": "eval-image",
   "language": "python",
   "name": "python3"
  },
  "language_info": {
   "codemirror_mode": {
    "name": "ipython",
    "version": 3
   },
   "file_extension": ".py",
   "mimetype": "text/x-python",
   "name": "python",
   "nbconvert_exporter": "python",
   "pygments_lexer": "ipython3",
   "version": "3.10.6"
  },
  "orig_nbformat": 4,
  "vscode": {
   "interpreter": {
    "hash": "4e886a5f65e9a17bc821dd6277534391c675101fa941df89e52c78820b9a65d7"
   }
  }
 },
 "nbformat": 4,
 "nbformat_minor": 2
}
